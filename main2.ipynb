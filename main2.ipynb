{
 "cells": [
  {
   "cell_type": "code",
   "execution_count": 1,
   "metadata": {},
   "outputs": [],
   "source": [
    "import pandas as pd\n",
    "\n",
    "def get_id(dir_path='cmg-data/split-data', type='randomly'):\n",
    "    with open(f'{dir_path}/{type}/train_id.txt') as file:\n",
    "        train_id = [line.rstrip() for line in file]\n",
    "    with open(f'{dir_path}/{type}/test_id.txt') as file:\n",
    "        test_id = [line.rstrip() for line in file]\n",
    "    return train_id, test_id\n",
    "\n",
    "df = pd.read_parquet(f'cmg-data/cmg-data-processed.parquet', engine='fastparquet')\n",
    "train_id, test_id = get_id(dir_path='cmg-data/split-data', type='cross_project')\n",
    "train, test = df.loc[df['index'].isin(train_id)], df.loc[df['index'].isin(test_id)]"
   ]
  },
  {
   "cell_type": "code",
   "execution_count": 2,
   "metadata": {},
   "outputs": [],
   "source": [
    "import json\n",
    "with open('diff_pdg.json') as f:\n",
    "    diffler = json.load(f)"
   ]
  },
  {
   "cell_type": "code",
   "execution_count": 7,
   "metadata": {},
   "outputs": [
    {
     "name": "stderr",
     "output_type": "stream",
     "text": [
      "100%|██████████| 25747/25747 [01:50<00:00, 232.82it/s]\n"
     ]
    }
   ],
   "source": [
    "import nltk\n",
    "from nltk import WordNetLemmatizer, pos_tag, WordPunctTokenizer, data\n",
    "from nltk.corpus import wordnet\n",
    "from tqdm import tqdm\n",
    "import re\n",
    "\n",
    "def write_string_to_file(absolute_filename, string):\n",
    "    with open(absolute_filename, 'w') as fout:\n",
    "        fout.write(string)\n",
    "\n",
    "def word_tokenizer(sentence):\n",
    "    words = WordPunctTokenizer().tokenize(sentence)\n",
    "    return words\n",
    "\n",
    "source_seqs = list()\n",
    "target_seqs = list()\n",
    "lang_seqs = list()\n",
    "\n",
    "indexs = train['index'].unique()\n",
    "\n",
    "for index in tqdm(indexs):\n",
    "    df_commit = train[train['index']==index]\n",
    "    # diffs = list()\n",
    "    langs = list()\n",
    "    source_seq = ''\n",
    "    diff_pdgs = diffler[index]\n",
    "    diff_list = diff_pdgs.split(' <nl> ')\n",
    "    len(diff_list)\n",
    "    \n",
    "    for _, row in df_commit.iterrows():\n",
    "        type = row['new_path_file'].split('.')[-1]\n",
    "        if type in ['c', 'h']:\n",
    "            langs.append('c')\n",
    "        else:\n",
    "            langs.append('cpp')\n",
    "        \n",
    "        if row['old_path_file'] != None:\n",
    "            old_f = word_tokenizer(row['old_path_file'])\n",
    "            source_seq += 'mmm ' + ' '.join(old_f) + ' <nl> '\n",
    "        \n",
    "        if row['old_path_file'] != None:\n",
    "            new_f = word_tokenizer(row['new_path_file'])\n",
    "            source_seq += 'ppp ' + ' '.join(new_f) + ' <nl> '\n",
    "        label_words = row['label'].split()\n",
    "        target_seq = ' '.join(label_words)\n",
    "        \n",
    "    for diff in diff_list:\n",
    "        diffs = list()\n",
    "        for l in diff.splitlines():\n",
    "            l = re.sub('@@.+?@@', '', l)\n",
    "            l = re.sub(r'\\s+', ' ', l)\n",
    "            if len(l) <= 0:\n",
    "                continue\n",
    "            words = word_tokenizer(l)\n",
    "            diffs.append(' '.join(words))\n",
    "        source_seq += ' <nl> '.join(diffs)\n",
    "    # print(source_seq)\n",
    "    # break\n",
    "    source_seqs.append(source_seq)\n",
    "    target_seqs.append(target_seq)\n",
    "    lang_seqs.append(' '.join(langs))\n",
    "\n",
    "write_string_to_file(f'CMG-data/cmg.train.diff', '\\n'.join(source_seqs[:23172]))\n",
    "write_string_to_file(f'CMG-data/cmg.train.msg', '\\n'.join(target_seqs[:23172]))\n",
    "write_string_to_file(f'CMG-data/cmg.train.lang', '\\n'.join(lang_seqs[:23172]))\n",
    "\n",
    "write_string_to_file(f'CMG-data/cmg.valid.diff', '\\n'.join(source_seqs[23172:]))\n",
    "write_string_to_file(f'CMG-data/cmg.valid.msg', '\\n'.join(target_seqs[23172:]))\n",
    "write_string_to_file(f'CMG-data/cmg.valid.lang', '\\n'.join(lang_seqs[23172:]))"
   ]
  },
  {
   "cell_type": "code",
   "execution_count": 8,
   "metadata": {},
   "outputs": [
    {
     "name": "stderr",
     "output_type": "stream",
     "text": [
      "100%|██████████| 6406/6406 [00:12<00:00, 527.52it/s]\n"
     ]
    }
   ],
   "source": [
    "source_seqs = list()\n",
    "target_seqs = list()\n",
    "lang_seqs = list()\n",
    "\n",
    "indexs = test['index'].unique()\n",
    "\n",
    "for index in tqdm(indexs):\n",
    "    df_commit = test[test['index']==index]\n",
    "    langs = list()\n",
    "    source_seq = ''\n",
    "    diff_pdgs = diffler[index]\n",
    "    diff_list = diff_pdgs.split(' <nl> ')\n",
    "    len(diff_list)\n",
    "    \n",
    "    for _, row in df_commit.iterrows():\n",
    "        type = row['new_path_file'].split('.')[-1]\n",
    "        if type in ['c', 'h']:\n",
    "            langs.append('c')\n",
    "        else:\n",
    "            langs.append('cpp')\n",
    "        \n",
    "        if row['old_path_file'] != None:\n",
    "            old_f = word_tokenizer(row['old_path_file'])\n",
    "            source_seq += 'mmm ' + ' '.join(old_f) + ' <nl> '\n",
    "        \n",
    "        if row['old_path_file'] != None:\n",
    "            new_f = word_tokenizer(row['new_path_file'])\n",
    "            source_seq += 'ppp ' + ' '.join(new_f) + ' <nl> '\n",
    "        label_words = row['label'].split()\n",
    "        target_seq = ' '.join(label_words)\n",
    "        \n",
    "    for diff in diff_list:\n",
    "        diffs = list()\n",
    "        for l in diff.splitlines():\n",
    "            l = re.sub('@@.+?@@', '', l)\n",
    "            l = re.sub(r'\\s+', ' ', l)\n",
    "            if len(l) <= 0:\n",
    "                continue\n",
    "            words = word_tokenizer(l)\n",
    "            diffs.append(' '.join(words))\n",
    "        source_seq += ' <nl> '.join(diffs)\n",
    "\n",
    "    source_seqs.append(source_seq)\n",
    "    target_seqs.append(target_seq)\n",
    "    lang_seqs.append(' '.join(langs))\n",
    "\n",
    "write_string_to_file(f'CMG-data/cmg.test.diff', '\\n'.join(source_seqs))\n",
    "write_string_to_file(f'CMG-data/cmg.test.msg', '\\n'.join(target_seqs))\n",
    "write_string_to_file(f'CMG-data/cmg.test.lang', '\\n'.join(lang_seqs))"
   ]
  },
  {
   "cell_type": "code",
   "execution_count": 11,
   "metadata": {},
   "outputs": [
    {
     "name": "stdout",
     "output_type": "stream",
     "text": [
      "build: 100%|████████████████████████████████| 2575/2575 [00:27<00:00, 93.43it/s]\n",
      "2575\n"
     ]
    }
   ],
   "source": [
    "# Chuyen cmg vaild data thanh Race data\n",
    "!python data_processing/preprocess.py"
   ]
  },
  {
   "cell_type": "code",
   "execution_count": 12,
   "metadata": {},
   "outputs": [
    {
     "name": "stdout",
     "output_type": "stream",
     "text": [
      "build: 100%|██████████████████████████████| 23172/23172 [04:36<00:00, 83.74it/s]\n",
      "23172\n"
     ]
    }
   ],
   "source": [
    "# Chuyen cmg train data thanh Race data\n",
    "!python data_processing/preprocess.py --diff_filename CMG-data/cmg.train.diff --msg_filename CMG-data/cmg.train.msg --lang_filename CMG-data/cmg.train.lang"
   ]
  },
  {
   "cell_type": "code",
   "execution_count": 13,
   "metadata": {},
   "outputs": [
    {
     "name": "stdout",
     "output_type": "stream",
     "text": [
      "build: 100%|████████████████████████████████| 6406/6406 [01:10<00:00, 90.74it/s]\n",
      "6406\n"
     ]
    }
   ],
   "source": [
    "# Chuyen cmg test data thanh Race data\n",
    "!python data_processing/preprocess.py --diff_filename CMG-data/cmg.test.diff --msg_filename CMG-data/cmg.test.msg --lang_filename CMG-data/cmg.test.lang"
   ]
  },
  {
   "cell_type": "code",
   "execution_count": 22,
   "metadata": {},
   "outputs": [],
   "source": [
    "!cp data_processing/saved_process/cmg.test.jsonl dataset/cpp/contextual_medits/test.jsonl\n",
    "!cp data_processing/saved_process/cmg.train.jsonl dataset/cpp/contextual_medits/train.jsonl\n",
    "!cp data_processing/saved_process/cmg.valid.jsonl dataset/cpp/contextual_medits/valid.jsonl"
   ]
  },
  {
   "cell_type": "code",
   "execution_count": 24,
   "metadata": {},
   "outputs": [
    {
     "name": "stdout",
     "output_type": "stream",
     "text": [
      "saved_model/codet5/cpp/\n",
      "============TRAINING============\n",
      "^C\n"
     ]
    }
   ],
   "source": [
    "!bash run.sh cpp"
   ]
  },
  {
   "cell_type": "code",
   "execution_count": 25,
   "metadata": {},
   "outputs": [
    {
     "name": "stdout",
     "output_type": "stream",
     "text": [
      "predict lines:  6406\n",
      "refs lines:  6406\n",
      "EM = 8.57\n",
      "precs = 25.392\n",
      "recall = 25.431\n",
      "Meteor: 10.698227282299198\n",
      "ROUGE-L: 14.822569048428564\n",
      "Total: 6406\n",
      "Total: 6406\n",
      "  bleu-4 = 16.618 \n",
      "  bleu-normal = 16.618 \n",
      "Bleu-B-Norm:  16.617827909354563\n"
     ]
    }
   ],
   "source": [
    "!python evalNMTS/eval.py --prd_dir evalNMTS/data/nngen.cmg.test.msg --gold_dir evalNMTS/data/cmg.test.msg "
   ]
  }
 ],
 "metadata": {
  "kernelspec": {
   "display_name": "base",
   "language": "python",
   "name": "python3"
  },
  "language_info": {
   "codemirror_mode": {
    "name": "ipython",
    "version": 3
   },
   "file_extension": ".py",
   "mimetype": "text/x-python",
   "name": "python",
   "nbconvert_exporter": "python",
   "pygments_lexer": "ipython3",
   "version": "3.7.17"
  },
  "orig_nbformat": 4
 },
 "nbformat": 4,
 "nbformat_minor": 2
}
