{
 "cells": [
  {
   "cell_type": "code",
   "execution_count": 1,
   "metadata": {},
   "outputs": [],
   "source": [
    "import pandas as pd\n",
    "\n",
    "def get_id(dir_path='cmg-data/split-data', type='randomly'):\n",
    "    with open(f'{dir_path}/{type}/train_id.txt') as file:\n",
    "        train_id = [line.rstrip() for line in file]\n",
    "    with open(f'{dir_path}/{type}/test_id.txt') as file:\n",
    "        test_id = [line.rstrip() for line in file]\n",
    "    return train_id, test_id\n",
    "\n",
    "df = pd.read_parquet(f'cmg-data/cmg-data-processed.parquet', engine='fastparquet')\n",
    "train_id, test_id = get_id(dir_path='cmg-data/split-data', type='cross_project')\n",
    "train, test = df.loc[df['index'].isin(train_id)], df.loc[df['index'].isin(test_id)]"
   ]
  },
  {
   "cell_type": "code",
   "execution_count": 2,
   "metadata": {},
   "outputs": [
    {
     "name": "stderr",
     "output_type": "stream",
     "text": [
      "100%|██████████| 25747/25747 [01:13<00:00, 352.16it/s]\n"
     ]
    }
   ],
   "source": [
    "import nltk\n",
    "from nltk import WordNetLemmatizer, pos_tag, WordPunctTokenizer, data\n",
    "from nltk.corpus import wordnet\n",
    "from tqdm import tqdm\n",
    "import re\n",
    "\n",
    "def write_string_to_file(absolute_filename, string):\n",
    "    with open(absolute_filename, 'w') as fout:\n",
    "        fout.write(string)\n",
    "\n",
    "def word_tokenizer(sentence):\n",
    "    words = WordPunctTokenizer().tokenize(sentence)\n",
    "    return words\n",
    "\n",
    "source_seqs = list()\n",
    "target_seqs = list()\n",
    "lang_seqs = list()\n",
    "\n",
    "indexs = train['index'].unique()\n",
    "\n",
    "for index in tqdm(indexs):\n",
    "    df_commit = train[train['index']==index]\n",
    "    diffs = list()\n",
    "    langs = list()\n",
    "    source_seq = ''\n",
    "    for _, row in df_commit.iterrows():\n",
    "        for l in row['diff'].splitlines():\n",
    "            l = re.sub('@@.+?@@', '', l)\n",
    "            l = re.sub(r'\\s+', ' ', l)\n",
    "            if len(l) <= 0:\n",
    "                continue\n",
    "            words = word_tokenizer(l)\n",
    "            diffs.append(' '.join(words))\n",
    "        type = row['new_path_file'].split('.')[-1]\n",
    "        if type in ['c', 'h']:\n",
    "            langs.append('c')\n",
    "        else:\n",
    "            langs.append('cpp')\n",
    "        \n",
    "        if row['old_path_file'] != None:\n",
    "            old_f = word_tokenizer(row['old_path_file'])\n",
    "            source_seq += 'mmm ' + ' '.join(old_f) + ' <nl> '\n",
    "        \n",
    "        if row['old_path_file'] != None:\n",
    "            new_f = word_tokenizer(row['new_path_file'])\n",
    "            source_seq += 'ppp ' + ' '.join(new_f) + ' <nl> '\n",
    "        \n",
    "        source_seq += ' <nl> '.join(diffs)\n",
    "        label_words = row['label'].split()\n",
    "        target_seq = ' '.join(label_words)\n",
    "        # source_words = [word for word in source_seq.split()]\n",
    "        # target_words = [word for word in target_seq.split()]\n",
    "        \n",
    "        # if len(source_words) > 100:\n",
    "        #     continue\n",
    "\n",
    "        # # if len(target_words) > 30 or not starts_with_verb(target_words):\n",
    "        # #     continue\n",
    "        # if len(target_words) > 30:\n",
    "        #     continue\n",
    "        \n",
    "        # if cleaned and clean_msg(target_seq):\n",
    "        #     continue\n",
    "\n",
    "    source_seqs.append(source_seq)\n",
    "    target_seqs.append(target_seq)\n",
    "    lang_seqs.append(' '.join(langs))\n",
    "\n",
    "write_string_to_file(f'CMG-data/cmg.train.diff', '\\n'.join(source_seqs[:23172]))\n",
    "write_string_to_file(f'CMG-data/cmg.train.msg', '\\n'.join(target_seqs[:23172]))\n",
    "write_string_to_file(f'CMG-data/cmg.train.lang', '\\n'.join(lang_seqs[:23172]))\n",
    "\n",
    "write_string_to_file(f'CMG-data/cmg.valid.diff', '\\n'.join(source_seqs[23172:]))\n",
    "write_string_to_file(f'CMG-data/cmg.valid.msg', '\\n'.join(target_seqs[23172:]))\n",
    "write_string_to_file(f'CMG-data/cmg.valid.lang', '\\n'.join(lang_seqs[23172:]))"
   ]
  },
  {
   "cell_type": "code",
   "execution_count": 3,
   "metadata": {},
   "outputs": [
    {
     "name": "stderr",
     "output_type": "stream",
     "text": [
      "100%|██████████| 6406/6406 [00:06<00:00, 920.91it/s]\n"
     ]
    }
   ],
   "source": [
    "source_seqs = list()\n",
    "target_seqs = list()\n",
    "lang_seqs = list()\n",
    "\n",
    "indexs = test['index'].unique()\n",
    "\n",
    "for index in tqdm(indexs):\n",
    "    df_commit = test[test['index']==index]\n",
    "    diffs = list()\n",
    "    langs = list()\n",
    "    source_seq = ''\n",
    "    for _, row in df_commit.iterrows():\n",
    "        for l in row['diff'].splitlines():\n",
    "            l = re.sub('@@.+?@@', '', l)\n",
    "            l = re.sub(r'\\s+', ' ', l)\n",
    "            if len(l) <= 0:\n",
    "                continue\n",
    "            words = word_tokenizer(l)\n",
    "            diffs.append(' '.join(words))\n",
    "        type = row['new_path_file'].split('.')[-1]\n",
    "        if type in ['c', 'h']:\n",
    "            langs.append('c')\n",
    "        else:\n",
    "            langs.append('cpp')\n",
    "        \n",
    "        if row['old_path_file'] != None:\n",
    "            old_f = word_tokenizer(row['old_path_file'])\n",
    "            source_seq += 'mmm ' + ' '.join(old_f) + ' <nl> '\n",
    "        \n",
    "        if row['old_path_file'] != None:\n",
    "            new_f = word_tokenizer(row['new_path_file'])\n",
    "            source_seq += 'ppp ' + ' '.join(new_f) + ' <nl> '\n",
    "        \n",
    "        source_seq += ' <nl> '.join(diffs)\n",
    "        label_words = row['label'].split()\n",
    "        target_seq = ' '.join(label_words)\n",
    "        # source_words = [word for word in source_seq.split()]\n",
    "        # target_words = [word for word in target_seq.split()]\n",
    "        \n",
    "        # if len(source_words) > 100:\n",
    "        #     continue\n",
    "\n",
    "        # # if len(target_words) > 30 or not starts_with_verb(target_words):\n",
    "        # #     continue\n",
    "        # if len(target_words) > 30:\n",
    "        #     continue\n",
    "        \n",
    "        # if cleaned and clean_msg(target_seq):\n",
    "        #     continue\n",
    "\n",
    "    source_seqs.append(source_seq)\n",
    "    target_seqs.append(target_seq)\n",
    "    lang_seqs.append(' '.join(langs))\n",
    "\n",
    "write_string_to_file(f'CMG-data/cmg.test.diff', '\\n'.join(source_seqs))\n",
    "write_string_to_file(f'CMG-data/cmg.test.msg', '\\n'.join(target_seqs))\n",
    "write_string_to_file(f'CMG-data/cmg.test.lang', '\\n'.join(lang_seqs))"
   ]
  },
  {
   "cell_type": "code",
   "execution_count": 6,
   "metadata": {},
   "outputs": [
    {
     "name": "stdout",
     "output_type": "stream",
     "text": [
      "build: 100%|███████████████████████████████| 2576/2576 [00:17<00:00, 147.53it/s]\n",
      "2576\n"
     ]
    }
   ],
   "source": [
    "# Chuyen cmg vaild data thanh Race data\n",
    "!python data_processing/preprocess.py"
   ]
  },
  {
   "cell_type": "code",
   "execution_count": 8,
   "metadata": {},
   "outputs": [
    {
     "name": "stdout",
     "output_type": "stream",
     "text": [
      "build: 100%|█████████████████████████████| 23173/23173 [03:09<00:00, 122.24it/s]\n",
      "23173\n"
     ]
    }
   ],
   "source": [
    "# Chuyen cmg train data thanh Race data\n",
    "!python data_processing/preprocess.py --diff_filename CMG-data/cmg.train.diff --msg_filename CMG-data/cmg.train.msg --lang_filename CMG-data/cmg.train.lang"
   ]
  },
  {
   "cell_type": "code",
   "execution_count": 9,
   "metadata": {},
   "outputs": [
    {
     "name": "stdout",
     "output_type": "stream",
     "text": [
      "build:  15%|████▊                           | 969/6407 [00:09<00:36, 150.47it/s]^C\n",
      "build:  16%|████▉                          | 1024/6407 [00:09<00:34, 157.90it/s]"
     ]
    }
   ],
   "source": [
    "# Chuyen cmg test data thanh Race data\n",
    "!python data_processing/preprocess.py --diff_filename CMG-data/cmg.test.diff --msg_filename CMG-data/cmg.test.msg --lang_filename CMG-data/cmg.test.lang"
   ]
  }
 ],
 "metadata": {
  "kernelspec": {
   "display_name": "base",
   "language": "python",
   "name": "python3"
  },
  "language_info": {
   "codemirror_mode": {
    "name": "ipython",
    "version": 3
   },
   "file_extension": ".py",
   "mimetype": "text/x-python",
   "name": "python",
   "nbconvert_exporter": "python",
   "pygments_lexer": "ipython3",
   "version": "3.11.3"
  },
  "orig_nbformat": 4
 },
 "nbformat": 4,
 "nbformat_minor": 2
}
